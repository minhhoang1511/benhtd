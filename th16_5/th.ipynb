{
 "cells": [
  {
   "cell_type": "code",
   "execution_count": 2,
   "metadata": {},
   "outputs": [
    {
     "data": {
      "text/html": [
       "<div>\n",
       "<style scoped>\n",
       "    .dataframe tbody tr th:only-of-type {\n",
       "        vertical-align: middle;\n",
       "    }\n",
       "\n",
       "    .dataframe tbody tr th {\n",
       "        vertical-align: top;\n",
       "    }\n",
       "\n",
       "    .dataframe thead th {\n",
       "        text-align: right;\n",
       "    }\n",
       "</style>\n",
       "<table border=\"1\" class=\"dataframe\">\n",
       "  <thead>\n",
       "    <tr style=\"text-align: right;\">\n",
       "      <th></th>\n",
       "      <th>ID</th>\n",
       "      <th>No_Pation</th>\n",
       "      <th>Gender</th>\n",
       "      <th>AGE</th>\n",
       "      <th>Urea</th>\n",
       "      <th>Cr</th>\n",
       "      <th>HbA1c</th>\n",
       "      <th>Chol</th>\n",
       "      <th>TG</th>\n",
       "      <th>HDL</th>\n",
       "      <th>LDL</th>\n",
       "      <th>VLDL</th>\n",
       "      <th>BMI</th>\n",
       "      <th>CLASS</th>\n",
       "    </tr>\n",
       "  </thead>\n",
       "  <tbody>\n",
       "    <tr>\n",
       "      <th>0</th>\n",
       "      <td>502</td>\n",
       "      <td>17975</td>\n",
       "      <td>F</td>\n",
       "      <td>50</td>\n",
       "      <td>4.7</td>\n",
       "      <td>46</td>\n",
       "      <td>4.9</td>\n",
       "      <td>4.2</td>\n",
       "      <td>0.9</td>\n",
       "      <td>2.4</td>\n",
       "      <td>1.4</td>\n",
       "      <td>0.5</td>\n",
       "      <td>24.0</td>\n",
       "      <td>N</td>\n",
       "    </tr>\n",
       "    <tr>\n",
       "      <th>1</th>\n",
       "      <td>735</td>\n",
       "      <td>34221</td>\n",
       "      <td>M</td>\n",
       "      <td>26</td>\n",
       "      <td>4.5</td>\n",
       "      <td>62</td>\n",
       "      <td>4.9</td>\n",
       "      <td>3.7</td>\n",
       "      <td>1.4</td>\n",
       "      <td>1.1</td>\n",
       "      <td>2.1</td>\n",
       "      <td>0.6</td>\n",
       "      <td>23.0</td>\n",
       "      <td>N</td>\n",
       "    </tr>\n",
       "    <tr>\n",
       "      <th>2</th>\n",
       "      <td>420</td>\n",
       "      <td>47975</td>\n",
       "      <td>F</td>\n",
       "      <td>50</td>\n",
       "      <td>4.7</td>\n",
       "      <td>46</td>\n",
       "      <td>4.9</td>\n",
       "      <td>4.2</td>\n",
       "      <td>0.9</td>\n",
       "      <td>2.4</td>\n",
       "      <td>1.4</td>\n",
       "      <td>0.5</td>\n",
       "      <td>24.0</td>\n",
       "      <td>N</td>\n",
       "    </tr>\n",
       "    <tr>\n",
       "      <th>3</th>\n",
       "      <td>680</td>\n",
       "      <td>87656</td>\n",
       "      <td>F</td>\n",
       "      <td>50</td>\n",
       "      <td>4.7</td>\n",
       "      <td>46</td>\n",
       "      <td>4.9</td>\n",
       "      <td>4.2</td>\n",
       "      <td>0.9</td>\n",
       "      <td>2.4</td>\n",
       "      <td>1.4</td>\n",
       "      <td>0.5</td>\n",
       "      <td>24.0</td>\n",
       "      <td>N</td>\n",
       "    </tr>\n",
       "    <tr>\n",
       "      <th>4</th>\n",
       "      <td>504</td>\n",
       "      <td>34223</td>\n",
       "      <td>M</td>\n",
       "      <td>33</td>\n",
       "      <td>7.1</td>\n",
       "      <td>46</td>\n",
       "      <td>4.9</td>\n",
       "      <td>4.9</td>\n",
       "      <td>1.0</td>\n",
       "      <td>0.8</td>\n",
       "      <td>2.0</td>\n",
       "      <td>0.4</td>\n",
       "      <td>21.0</td>\n",
       "      <td>N</td>\n",
       "    </tr>\n",
       "  </tbody>\n",
       "</table>\n",
       "</div>"
      ],
      "text/plain": [
       "    ID  No_Pation Gender  AGE  Urea  Cr  HbA1c  Chol   TG  HDL  LDL  VLDL   \n",
       "0  502      17975      F   50   4.7  46    4.9   4.2  0.9  2.4  1.4   0.5  \\\n",
       "1  735      34221      M   26   4.5  62    4.9   3.7  1.4  1.1  2.1   0.6   \n",
       "2  420      47975      F   50   4.7  46    4.9   4.2  0.9  2.4  1.4   0.5   \n",
       "3  680      87656      F   50   4.7  46    4.9   4.2  0.9  2.4  1.4   0.5   \n",
       "4  504      34223      M   33   7.1  46    4.9   4.9  1.0  0.8  2.0   0.4   \n",
       "\n",
       "    BMI CLASS  \n",
       "0  24.0     N  \n",
       "1  23.0     N  \n",
       "2  24.0     N  \n",
       "3  24.0     N  \n",
       "4  21.0     N  "
      ]
     },
     "execution_count": 2,
     "metadata": {},
     "output_type": "execute_result"
    }
   ],
   "source": [
    "import os\n",
    "from sklearn.preprocessing import LabelEncoder\n",
    "from sklearn.model_selection import train_test_split\n",
    "import matplotlib.pyplot as plt\n",
    "import seaborn as sns\n",
    "from sklearn.ensemble import RandomForestRegressor\n",
    "from sklearn.metrics import mean_squared_error\n",
    "from sklearn.metrics import mean_absolute_error\n",
    "from sklearn.metrics import r2_score\n",
    "from sklearn.model_selection import cross_val_score\n",
    "from sklearn.model_selection import GridSearchCV\n",
    "import warnings\n",
    "warnings.filterwarnings('ignore')\n",
    "import pandas as pd\n",
    "import numpy as np\n",
    "import matplotlib.pyplot as plt\n",
    "import matplotlib as mpl\n",
    "%matplotlib inline\n",
    "mpl.style.use('ggplot')\n",
    "td=pd.read_csv('tieuduong.csv')\n",
    "td.head()"
   ]
  },
  {
   "cell_type": "code",
   "execution_count": 3,
   "metadata": {},
   "outputs": [
    {
     "name": "stdout",
     "output_type": "stream",
     "text": [
      "ID             int64\n",
      "No_Pation      int64\n",
      "Gender        object\n",
      "AGE            int64\n",
      "Urea         float64\n",
      "Cr             int64\n",
      "HbA1c        float64\n",
      "Chol         float64\n",
      "TG           float64\n",
      "HDL          float64\n",
      "LDL          float64\n",
      "VLDL         float64\n",
      "BMI          float64\n",
      "CLASS         object\n",
      "dtype: object\n"
     ]
    }
   ],
   "source": [
    "print(td.dtypes)"
   ]
  },
  {
   "cell_type": "code",
   "execution_count": 7,
   "metadata": {},
   "outputs": [
    {
     "name": "stdout",
     "output_type": "stream",
     "text": [
      "object\n"
     ]
    }
   ],
   "source": [
    "td['Gender'] = td['Gender'].astype(str)\n",
    "td['CLASS'] = td['CLASS'].astype(str)\n",
    "print(td['Gender'].dtypes)"
   ]
  },
  {
   "cell_type": "code",
   "execution_count": 5,
   "metadata": {},
   "outputs": [
    {
     "name": "stdout",
     "output_type": "stream",
     "text": [
      "ID             int64\n",
      "No_Pation      int64\n",
      "Gender        object\n",
      "AGE            int64\n",
      "Urea         float64\n",
      "Cr             int64\n",
      "HbA1c        float64\n",
      "Chol         float64\n",
      "TG           float64\n",
      "HDL          float64\n",
      "LDL          float64\n",
      "VLDL         float64\n",
      "BMI          float64\n",
      "CLASS         object\n",
      "dtype: object\n"
     ]
    }
   ],
   "source": [
    "print(td.dtypes)"
   ]
  },
  {
   "attachments": {},
   "cell_type": "markdown",
   "metadata": {},
   "source": [
    "Mô tả chi tiết ý nghĩa từng thuộc tính, kiểu dữ liệu từng thuộc tính\n",
    "ID : định danh duy nhất cho mỗi bệnh nhân , kiểu dữ liệu float64\n",
    "No_Pation: Mã bệnh án , kiểu dữ liệu float64\n",
    "Gender: giới tính , kiểu dữ liệu string\n",
    "AGE: tuổi ,   kiểu dữ liệu     int64\n",
    "Urea : nồng độ ure trong máu của bệnh nhân , kiểu dữ liệu float64\n",
    "Cr   :nồng độ creatinin trong máu của bệnh nhân  ,   kiểu dữ liệu     int64\n",
    "HbA1c : mức độ đường huyết trung bình của bệnh nhân,  kiểu dữ liệu     float64\n",
    "Chol   :nồng độ cholesterol trong máu của bệnh nhân.    kiểu dữ liệu  float64\n",
    "TG     : nồng độ triglyceride trong máu của bệnh nhân.    kiểu dữ liệu  float64\n",
    "HDL   :nồng độ cholesterol HDL trong máu của bệnh nhân (lipoprotein đột lượng cao).     kiểu dữ liệu  float64\n",
    "LDL   : nồng độ cholesterol LDL trong máu của bệnh nhân (lipoprotein đột lượng thấp).     kiểu dữ liệu  float64\n",
    "VLDL  : nồng độ cholesterol VLDL trong máu của bệnh nhân (lipoprotein đột lượng rất thấp).     kiểu dữ liệu  float64\n",
    "BMI   : chỉ số khối cơ thể của bệnh nhân.     kiểu dữ liệu  float64\n",
    "CLASS : trạng thái bệnh lý của bệnh nhân (N - bình thường, Y - bị bệnh, P- có tỉ lệ mắc bênh).     kiểu dữ liệu   string\n",
    "dtype: object"
   ]
  },
  {
   "attachments": {},
   "cell_type": "markdown",
   "metadata": {},
   "source": [
    " Mô tả chi tiết kiểu dữ liệu của thuộc tính cần dự đoán\n",
    "AGE: tuổi ,   kiểu dữ liệu     int64\n",
    "Urea : nồng độ ure trong máu của bệnh nhân , kiểu dữ liệu float64\n",
    "Cr   :nồng độ creatinin trong máu của bệnh nhân  ,   kiểu dữ liệu     int64\n",
    "HbA1c : mức độ đường huyết trung bình của bệnh nhân,  kiểu dữ liệu     float64\n",
    "Chol   :nồng độ cholesterol trong máu của bệnh nhân.    kiểu dữ liệu  float64\n",
    "TG     : nồng độ triglyceride trong máu của bệnh nhân.    kiểu dữ liệu  float64\n",
    "HDL   :nồng độ cholesterol HDL trong máu của bệnh nhân (lipoprotein đột lượng cao).     kiểu dữ liệu  float64\n",
    "LDL   : nồng độ cholesterol LDL trong máu của bệnh nhân (lipoprotein đột lượng thấp).     kiểu dữ liệu  float64\n",
    "VLDL  : nồng độ cholesterol VLDL trong máu của bệnh nhân (lipoprotein đột lượng rất thấp).     kiểu dữ liệu  float64\n",
    "BMI   : chỉ số khối cơ thể của bệnh nhân.     kiểu dữ liệu  float64"
   ]
  },
  {
   "attachments": {},
   "cell_type": "markdown",
   "metadata": {},
   "source": [
    "chuyển chữ thành số"
   ]
  },
  {
   "cell_type": "code",
   "execution_count": 9,
   "metadata": {},
   "outputs": [
    {
     "name": "stdout",
     "output_type": "stream",
     "text": [
      "      ID  No_Pation Gender  AGE  Urea  Cr  HbA1c  Chol   TG  HDL  LDL  VLDL   \n",
      "0    502      17975      0   50   4.7  46    4.9   4.2  0.9  2.4  1.4   0.5  \\\n",
      "1    735      34221      1   26   4.5  62    4.9   3.7  1.4  1.1  2.1   0.6   \n",
      "2    420      47975      0   50   4.7  46    4.9   4.2  0.9  2.4  1.4   0.5   \n",
      "3    680      87656      0   50   4.7  46    4.9   4.2  0.9  2.4  1.4   0.5   \n",
      "4    504      34223      1   33   7.1  46    4.9   4.9  1.0  0.8  2.0   0.4   \n",
      "..   ...        ...    ...  ...   ...  ..    ...   ...  ...  ...  ...   ...   \n",
      "995  200     454317      1   71  11.0  97    7.0   7.5  1.7  1.2  1.8   0.6   \n",
      "996  671     876534      1   31   3.0  60   12.3   4.1  2.2  0.7  2.4  15.4   \n",
      "997  669      87654      1   30   7.1  81    6.7   4.1  1.1  1.2  2.4   8.1   \n",
      "998   99      24004      1   38   5.8  59    6.7   5.3  2.0  1.6  2.9  14.0   \n",
      "999  248      24054      1   54   5.0  67    6.9   3.8  1.7  1.1  3.0   0.7   \n",
      "\n",
      "      BMI CLASS  \n",
      "0    24.0     0  \n",
      "1    23.0     0  \n",
      "2    24.0     0  \n",
      "3    24.0     0  \n",
      "4    21.0     0  \n",
      "..    ...   ...  \n",
      "995  30.0     1  \n",
      "996  37.2    Y   \n",
      "997  27.4    Y   \n",
      "998  40.5    Y   \n",
      "999  33.0    Y   \n",
      "\n",
      "[1000 rows x 14 columns]\n"
     ]
    }
   ],
   "source": [
    "td['Gender'].replace({'F': 0, 'M':1}, inplace= True)\n",
    "td['CLASS'].replace({'N': 0, 'Y':1,'P':2}, inplace= True)\n",
    "\n",
    "\n",
    "print(td)"
   ]
  }
 ],
 "metadata": {
  "kernelspec": {
   "display_name": "Python 3",
   "language": "python",
   "name": "python3"
  },
  "language_info": {
   "codemirror_mode": {
    "name": "ipython",
    "version": 3
   },
   "file_extension": ".py",
   "mimetype": "text/x-python",
   "name": "python",
   "nbconvert_exporter": "python",
   "pygments_lexer": "ipython3",
   "version": "3.11.3"
  },
  "orig_nbformat": 4
 },
 "nbformat": 4,
 "nbformat_minor": 2
}
